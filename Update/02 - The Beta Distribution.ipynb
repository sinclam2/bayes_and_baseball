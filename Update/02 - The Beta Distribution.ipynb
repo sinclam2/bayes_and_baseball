{
 "cells": [
  {
   "cell_type": "markdown",
   "metadata": {},
   "source": [
    "- The beta distribution has two parameters: $\\alpha$ and $\\beta$\n",
    "    - Both $\\alpha$ and $\\beta$ must be between 0 and 1\n",
    "    \n",
    "![](images/beta_distn.png)"
   ]
  },
  {
   "cell_type": "markdown",
   "metadata": {},
   "source": [
    "### What is the beta distribution good for?\n",
    "\n",
    "- We notice from the plot above that all curves lie within 0 and 1\n",
    "    - This is a hint\n",
    "    \n",
    "- In practice, the beta distribution is good at representing a **probability distribution of probabilities**\n",
    "    - i.e. if we have a hunch what the true probability of an event is (but we're note totally sure) we can use a beta distribution to set probabilities around our hunch\n",
    "        - E.g. let's say we're flipping a coin and we're pretty sure it's fair (so the probability of a heads is 0.5). We can use the beta distribution to create a distribution around 0.5"
   ]
  },
  {
   "cell_type": "markdown",
   "metadata": {},
   "source": [
    "____\n",
    "\n",
    "## Batting Averages\n",
    "\n",
    "$$\n",
    "\\text{Batting Average} = \\frac{\\text{Hits}}{\\text{At-Bats}}\n",
    "$$"
   ]
  },
  {
   "cell_type": "markdown",
   "metadata": {},
   "source": [
    "- Since you can't have more hits than at-bats, the batting average is some value between 0 and 1\n",
    "    - **Note**: a [hit](https://en.wikipedia.org/wiki/Hit_(baseball)) means the batter reaches first base before any fielder can either tag him with the ball, throw to another player protecting the base before the batter reaches it, or tag first base while carrying the ball."
   ]
  },
  {
   "cell_type": "markdown",
   "metadata": {},
   "source": [
    "- A typical batting average is 0.270\n",
    "    - A batting average of 0.300 or higher is considered excellent"
   ]
  },
  {
   "cell_type": "markdown",
   "metadata": {},
   "source": [
    "### How would we use the beta distribution to model a player's batting average?\n",
    "\n",
    "- Let's say we want to predict the season-long batting average of a player\n",
    "    - If we use his batting average so far, our predictions could be super volatile\n",
    "        - E.g. If he has one hit for one at-bat, his batting average will be 1.000, and if he has zero hits for one at-bat, it'll be 0.000"
   ]
  },
  {
   "cell_type": "markdown",
   "metadata": {},
   "source": [
    "- We know that when a player has a 1.000 batting average after one hit, it doesn't mean it'll last all season (because that assumption would be ridiculous)\n",
    "    - Since we know that assumption would be ridiculous, we have *prior expectations*\n",
    "        - Bayesian statistics incorporates these prior expectations into our analysis"
   ]
  },
  {
   "cell_type": "markdown",
   "metadata": {},
   "source": [
    "### Review: Binomial Distribution\n",
    "\n",
    "- Let's say the true batting average of a player is 0.300\n",
    "    - Then, at each at-bat, the probability of getting a hit is 0.3\n",
    "        - Each at-bat is an example of a [Bernoulli trial](https://en.wikipedia.org/wiki/Bernoulli_trial), which means that it's an \"experiment\" with a \"success\" (i.e. hit), a \"failure\" (i.e. strikeout), and a probability of success (0.300 batting average)\n",
    "        \n",
    "- Now, since we know his batting average is 0.300, someone asks us: *what is the probability that he'll get 5 hits in his next 10 at-bats?*\n",
    "    - The 10 at-bats are 10 Bernoulli trials back-to-back, each with a probability of success of 0.3\n",
    "        - **When we have a series of Bernoulli trials, we can use the [Binomial distribution](https://en.wikipedia.org/wiki/Binomial_distribution) to calculate the probabilities**"
   ]
  },
  {
   "cell_type": "markdown",
   "metadata": {},
   "source": [
    "- The Binomial distribution is defined as:\n",
    "\n",
    "$$\n",
    "P(X=k) = \\binom{n}{k}p^{k}(1-p)^{n-k}\n",
    "$$"
   ]
  },
  {
   "cell_type": "markdown",
   "metadata": {},
   "source": [
    "- So, to answer the question above, we plug in our values:\n",
    "\n",
    "$$\n",
    "P(\\text{Hits}=5) = \\binom{10}{5}0.3^{5}0.7^{5} = 0.1029193452\n",
    "$$"
   ]
  },
  {
   "cell_type": "markdown",
   "metadata": {},
   "source": [
    "- Therefore, our player with a 0.300 batting average has about a 1/10 chance of having 5 hits in his next 10 at-bats"
   ]
  },
  {
   "cell_type": "markdown",
   "metadata": {},
   "source": [
    "- If we repeated this calculation for all possible numbers of hits (i.e. 0, 1, 2, ..., 10), we'd have the full set of probabilities for his next 10 at-bats"
   ]
  },
  {
   "cell_type": "code",
   "execution_count": 5,
   "metadata": {},
   "outputs": [],
   "source": [
    "import numpy as np\n",
    "import matplotlib.pyplot as plt\n",
    "from scipy.stats import binom"
   ]
  },
  {
   "cell_type": "code",
   "execution_count": 6,
   "metadata": {},
   "outputs": [],
   "source": [
    "plt.style.use('ggplot')\n",
    "%matplotlib inline\n",
    "plt.rcParams[\"figure.figsize\"] = [20,12]"
   ]
  },
  {
   "cell_type": "code",
   "execution_count": 14,
   "metadata": {},
   "outputs": [
    {
     "data": {
      "image/png": "[encoded data removed]",
      "text/plain": [
       "<Figure size 1440x864 with 1 Axes>"
      ]
     },
     "metadata": {
      "needs_background": "light"
     },
     "output_type": "display_data"
    }
   ],
   "source": [
    "n, p = 10, 0.3\n",
    "\n",
    "for k in [0,1,2,3,4,5,6,7,8,9,10]:\n",
    "    prob = binom.pmf(k, n, p)\n",
    "    plt.bar(k, prob, color='b')\n",
    "plt.show()"
   ]
  }
 ],
 "metadata": {
  "kernelspec": {
   "display_name": "Python 3",
   "language": "python",
   "name": "python3"
  },
  "language_info": {
   "codemirror_mode": {
    "name": "ipython",
    "version": 3
   },
   "file_extension": ".py",
   "mimetype": "text/x-python",
   "name": "python",
   "nbconvert_exporter": "python",
   "pygments_lexer": "ipython3",
   "version": "3.6.8"
  }
 },
 "nbformat": 4,
 "nbformat_minor": 2
}
