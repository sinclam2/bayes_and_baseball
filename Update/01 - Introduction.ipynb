{
 "cells": [
  {
   "cell_type": "markdown",
   "metadata": {},
   "source": [
    "- This book introduces **empirical Bayes methods**\n",
    "    - These are powerful tools for handling uncertainty across many observations"
   ]
  },
  {
   "cell_type": "markdown",
   "metadata": {},
   "source": [
    "### Why empirical Bayes?\n",
    "\n",
    "- Empirical Bayesian methods are an approximation of more exact statistical methods\n",
    "    - In the statistical community, some people look down upon these methods\n",
    "    \n",
    "##### Complaint 1 - the approximations of empirical Bayes are inaccurate if we only have a few observations\n",
    "\n",
    "**Why this isn't a problem**:\n",
    "\n",
    "- Modern datasets have so much data that **there's often little difference** between empirical Bayes approximations and solutions from more traditional Bayesian methods\n",
    "\n",
    "##### Complaint 2 - empirical Bayes uses \"shortcuts\" to make computation quicker\n",
    "\n",
    "**Why the \"shortcuts\" are important**\n",
    "\n",
    "- Production systems often need to run millions of lines of code - the speed up is important\n",
    "- Full Bayesian methods use Markov Chain Monte Carlo, which can take a long time to run"
   ]
  }
 ],
 "metadata": {
  "kernelspec": {
   "display_name": "Python 3",
   "language": "python",
   "name": "python3"
  },
  "language_info": {
   "codemirror_mode": {
    "name": "ipython",
    "version": 3
   },
   "file_extension": ".py",
   "mimetype": "text/x-python",
   "name": "python",
   "nbconvert_exporter": "python",
   "pygments_lexer": "ipython3",
   "version": "3.6.8"
  }
 },
 "nbformat": 4,
 "nbformat_minor": 2
}
